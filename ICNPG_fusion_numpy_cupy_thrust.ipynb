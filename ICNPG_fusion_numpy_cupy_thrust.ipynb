{
  "nbformat": 4,
  "nbformat_minor": 0,
  "metadata": {
    "accelerator": "GPU",
    "colab": {
      "provenance": [],
      "gpuType": "T4",
      "include_colab_link": true
    },
    "kernelspec": {
      "display_name": "Python 3",
      "name": "python3"
    }
  },
  "cells": [
    {
      "cell_type": "markdown",
      "metadata": {
        "id": "view-in-github",
        "colab_type": "text"
      },
      "source": [
        "<a href=\"https://colab.research.google.com/github/fericazatti/CUDA_GPU_INTRODUCTION/blob/main/ICNPG_fusion_numpy_cupy_thrust.ipynb\" target=\"_parent\"><img src=\"https://colab.research.google.com/assets/colab-badge.svg\" alt=\"Open In Colab\"/></a>"
      ]
    },
    {
      "cell_type": "code",
      "metadata": {
        "colab": {
          "base_uri": "https://localhost:8080/",
          "height": 39
        },
        "id": "g6HXDOSw3hc-",
        "outputId": "867224d0-08d4-43b1-d4a2-c997d44e8522"
      },
      "source": [
        "%%html\n",
        "<marquee style='width: 100%; color: blue;'><b>ICNPG2025 en Google Colaboratory-Instituto Balseiro</b></marquee>\n"
      ],
      "execution_count": null,
      "outputs": [
        {
          "output_type": "display_data",
          "data": {
            "text/plain": [
              "<IPython.core.display.HTML object>"
            ],
            "text/html": [
              "<marquee style='width: 100%; color: blue;'><b>ICNPG2025 en Google Colaboratory-Instituto Balseiro</b></marquee>\n"
            ]
          },
          "metadata": {}
        }
      ]
    },
    {
      "cell_type": "code",
      "source": [
        "#@title si sale un error sobre UTF, probablemente se arregle corriendo esto\n",
        "import locale\n",
        "def getpreferredencoding(do_setlocale = True):\n",
        "    return \"UTF-8\"\n",
        "locale.getpreferredencoding = getpreferredencoding"
      ],
      "metadata": {
        "id": "XDUDYDn5HiLG"
      },
      "execution_count": null,
      "outputs": []
    },
    {
      "cell_type": "markdown",
      "metadata": {
        "id": "snj3bwGx_z-c"
      },
      "source": [
        "miremos que version de nvcc tenemos"
      ]
    },
    {
      "cell_type": "code",
      "metadata": {
        "colab": {
          "base_uri": "https://localhost:8080/"
        },
        "id": "GzIRSGebudXT",
        "outputId": "c472f7b9-94ea-4860-a368-2f07924ec7e3"
      },
      "source": [
        "!nvcc --version"
      ],
      "execution_count": null,
      "outputs": [
        {
          "output_type": "stream",
          "name": "stdout",
          "text": [
            "nvcc: NVIDIA (R) Cuda compiler driver\n",
            "Copyright (c) 2005-2024 NVIDIA Corporation\n",
            "Built on Thu_Jun__6_02:18:23_PDT_2024\n",
            "Cuda compilation tools, release 12.5, V12.5.82\n",
            "Build cuda_12.5.r12.5/compiler.34385749_0\n"
          ]
        }
      ]
    },
    {
      "cell_type": "markdown",
      "metadata": {
        "id": "hjdc7qaxACgq"
      },
      "source": [
        "A ver que placa nos toco..."
      ]
    },
    {
      "cell_type": "code",
      "metadata": {
        "colab": {
          "base_uri": "https://localhost:8080/"
        },
        "id": "hAOT_KANAFS6",
        "outputId": "57bd7010-090c-4e64-bef0-42a5828de050"
      },
      "source": [
        "!nvidia-smi"
      ],
      "execution_count": null,
      "outputs": [
        {
          "output_type": "stream",
          "name": "stdout",
          "text": [
            "Mon Feb 24 12:59:19 2025       \n",
            "+-----------------------------------------------------------------------------------------+\n",
            "| NVIDIA-SMI 550.54.15              Driver Version: 550.54.15      CUDA Version: 12.4     |\n",
            "|-----------------------------------------+------------------------+----------------------+\n",
            "| GPU  Name                 Persistence-M | Bus-Id          Disp.A | Volatile Uncorr. ECC |\n",
            "| Fan  Temp   Perf          Pwr:Usage/Cap |           Memory-Usage | GPU-Util  Compute M. |\n",
            "|                                         |                        |               MIG M. |\n",
            "|=========================================+========================+======================|\n",
            "|   0  Tesla T4                       Off |   00000000:00:04.0 Off |                    0 |\n",
            "| N/A   34C    P8              9W /   70W |       0MiB /  15360MiB |      0%      Default |\n",
            "|                                         |                        |                  N/A |\n",
            "+-----------------------------------------+------------------------+----------------------+\n",
            "                                                                                         \n",
            "+-----------------------------------------------------------------------------------------+\n",
            "| Processes:                                                                              |\n",
            "|  GPU   GI   CI        PID   Type   Process name                              GPU Memory |\n",
            "|        ID   ID                                                               Usage      |\n",
            "|=========================================================================================|\n",
            "|  No running processes found                                                             |\n",
            "+-----------------------------------------------------------------------------------------+\n"
          ]
        }
      ]
    },
    {
      "cell_type": "markdown",
      "source": [
        "# Experimentos con distintos frameworks\n",
        "\n"
      ],
      "metadata": {
        "id": "XlA5pom39OZ6"
      }
    },
    {
      "cell_type": "markdown",
      "source": [
        "Sean dos vectores $x$ e $y$, queremos calcular\n",
        "\n",
        "$$S=\\frac{\\sum_{i=0}^n  (x_i+y_i)}{\\sqrt{\\sum_{i=0}^n (x_i+y_i)^2}}=\\frac{\\sum_{i=0}^n  z_i}{\\sqrt{\\sum_{i=0}^n z_i^2}}$$"
      ],
      "metadata": {
        "id": "AQAIIAlOJej6"
      }
    },
    {
      "cell_type": "code",
      "source": [
        "#@title naive python\n",
        "\n",
        "import numpy as np\n",
        "import time\n",
        "\n",
        "n = 10000000\n",
        "\n",
        "# create x and y vectors\n",
        "x = np.arange(1, n+1, dtype=np.float32)\n",
        "y = np.arange(n, 0, -1, dtype=np.float32)\n",
        "z= np.empty(x.shape, dtype=np.float32)\n",
        "\n",
        "###################\n",
        "start_time = time.time()\n",
        "\n",
        "# fill z vector\n",
        "for i in range(n):\n",
        "  z[i] = x[i] + y[i]\n",
        "\n",
        "# normalize z by its Euclidean norm\n",
        "norm=0\n",
        "for i in range(n):\n",
        "  norm += z[i] * z[i]\n",
        "norm = np.sqrt(norm)\n",
        "\n",
        "# sum the elements of the final result\n",
        "#result = np.sum(z)/norm\n",
        "\n",
        "result = 0;\n",
        "for i in range(n):\n",
        "  result += z[i];\n",
        "result = result/norm\n",
        "\n",
        "\n",
        "# print the result and the time taken\n",
        "print(\"Result:\", result)\n",
        "print(\"Time taken:\", (time.time() - start_time) * 1000000, \"us\")\n",
        "###################\n",
        "\n",
        "tnaivepython = (time.time() - start_time) * 1000000\n",
        "#print(x,y,z,z_norm)"
      ],
      "metadata": {
        "colab": {
          "base_uri": "https://localhost:8080/"
        },
        "id": "3BdA_9ug3rgo",
        "outputId": "e4023600-1a4d-47c1-b11b-f13114bf5c9d"
      },
      "execution_count": null,
      "outputs": [
        {
          "output_type": "stream",
          "name": "stdout",
          "text": [
            "Result: 3162.2777051668395\n",
            "Time taken: 12553514.003753662 us\n"
          ]
        }
      ]
    },
    {
      "cell_type": "code",
      "source": [
        "#@title Naive C\n",
        "%%writefile naivec.c\n",
        "\n",
        "#include <stdio.h>\n",
        "#include <stdlib.h>\n",
        "#include <math.h>\n",
        "#include <time.h>\n",
        "\n",
        "int main() {\n",
        "    int n = 10000000;\n",
        "    float *x = (float *)malloc(n * sizeof(float));\n",
        "    float *y = (float *)malloc(n * sizeof(float));\n",
        "    float *z = (float *)malloc(n * sizeof(float));\n",
        "\n",
        "    // create x and y vectors\n",
        "    for (int i = 0; i < n; i++) {\n",
        "        x[i] = i + 1;\n",
        "        y[i] = n - i;\n",
        "    }\n",
        "\n",
        "    clock_t start_time = clock();\n",
        "\n",
        "    // fill z vector\n",
        "    for (int i = 0; i < n; i++) {\n",
        "        z[i] = x[i] + y[i];\n",
        "    }\n",
        "\n",
        "    // normalize z by its Euclidean norm\n",
        "    float norm = 0;\n",
        "    for (int i = 0; i < n; i++) {\n",
        "        norm += z[i] * z[i];\n",
        "    }\n",
        "    norm = sqrtf(norm);\n",
        "\n",
        "    // sum the elements of the final result\n",
        "    float sum_z = 0;\n",
        "    for(int i = 0; i < n; i++){\n",
        "        sum_z += z[i];\n",
        "    }\n",
        "    float result = sum_z / norm;\n",
        "\n",
        "\n",
        "    // print the result and the time taken\n",
        "    printf(\"Result: %f\\n\", result);\n",
        "    printf(\"Time taken: %f us\\n\", (double)(clock() - start_time) / CLOCKS_PER_SEC * 1000000);\n",
        "\n",
        "    free(x);\n",
        "    free(y);\n",
        "    free(z);\n",
        "    return 0;\n",
        "}\n"
      ],
      "metadata": {
        "colab": {
          "base_uri": "https://localhost:8080/"
        },
        "id": "GMJks8lM4L7M",
        "outputId": "18f94031-4316-420b-b745-8354b77cafae"
      },
      "execution_count": null,
      "outputs": [
        {
          "output_type": "stream",
          "name": "stdout",
          "text": [
            "Writing naivec.c\n"
          ]
        }
      ]
    },
    {
      "cell_type": "code",
      "source": [
        "!g++ -O4 naivec.c -o naivec; ./naivec"
      ],
      "metadata": {
        "colab": {
          "base_uri": "https://localhost:8080/"
        },
        "id": "t8QsMfXx4lfe",
        "outputId": "6c92f59d-cc0d-446b-9036-31ecad0552a4"
      },
      "execution_count": null,
      "outputs": [
        {
          "output_type": "stream",
          "name": "stdout",
          "text": [
            "Result: 3029.677002\n",
            "Time taken: 49861.000000 us\n"
          ]
        }
      ]
    },
    {
      "cell_type": "code",
      "source": [
        "import os\n",
        "\n",
        "# Get the value of the bash variable\n",
        "stream = os.popen('./naivec | grep \"Time\" | cut -d\" \" -f3') #note that we use echo to print the variable in bash, and os.popen to grab it into the python runtime\n",
        "t_value = stream.read().strip()  # Read and remove any trailing newline\n",
        "\n",
        "# Define the Python variable\n",
        "tnaivec = float(t_value)\n",
        "\n",
        "# Now you can use python_var in your Python code\n",
        "print(tnaivec)"
      ],
      "metadata": {
        "colab": {
          "base_uri": "https://localhost:8080/"
        },
        "id": "VwnQnD7341Kb",
        "outputId": "c83042b8-c8bd-4719-af25-554ea1380130"
      },
      "execution_count": null,
      "outputs": [
        {
          "output_type": "stream",
          "name": "stdout",
          "text": [
            "49469.0\n"
          ]
        }
      ]
    },
    {
      "cell_type": "code",
      "source": [
        "#@title Naive cpp and stl\n",
        "\n",
        "%%writefile naivecpp.cpp\n",
        "#include <iostream>\n",
        "#include <vector>\n",
        "#include <numeric>\n",
        "#include <cmath>\n",
        "#include <chrono>\n",
        "#include <algorithm>\n",
        "\n",
        "\n",
        "int main() {\n",
        "    int n = 10000000;\n",
        "    std::vector<float> x(n), y(n), z(n);\n",
        "\n",
        "    // create x and y vectors\n",
        "    for (int i = 0; i < n; i++) {\n",
        "        x[i] = i + 1;\n",
        "        y[i] = n - i;\n",
        "    }\n",
        "\n",
        "    auto start_time = std::chrono::high_resolution_clock::now();\n",
        "\n",
        "    // fill z vector\n",
        "    std::transform(x.begin(), x.end(), y.begin(), z.begin(), std::plus<float>());\n",
        "\n",
        "    // normalize z by its Euclidean norm\n",
        "    float norm = std::sqrt(std::inner_product(z.begin(), z.end(), z.begin(), 0.0f));\n",
        "\n",
        "    // sum the elements of the final result\n",
        "    float sum_z = std::accumulate(z.begin(), z.end(), 0.0f);\n",
        "    float result = sum_z / norm;\n",
        "\n",
        "    auto end_time = std::chrono::high_resolution_clock::now();\n",
        "    auto time_taken = std::chrono::duration_cast<std::chrono::microseconds>(end_time - start_time).count();\n",
        "\n",
        "    // print the result and the time taken\n",
        "    std::cout << \"Result: \" << result << std::endl;\n",
        "    std::cout << \"Time taken: \" << time_taken << \" us\" << std::endl;\n",
        "\n",
        "    return 0;\n",
        "}"
      ],
      "metadata": {
        "colab": {
          "base_uri": "https://localhost:8080/"
        },
        "id": "yXMnrnri7gLI",
        "outputId": "b7ed9796-9705-4cd2-91c1-565f8b6e2c69"
      },
      "execution_count": null,
      "outputs": [
        {
          "output_type": "stream",
          "name": "stdout",
          "text": [
            "Writing naivecpp.cpp\n"
          ]
        }
      ]
    },
    {
      "cell_type": "code",
      "source": [
        "!g++ -O4 naivecpp.cpp -o naivecpp; ./naivecpp"
      ],
      "metadata": {
        "colab": {
          "base_uri": "https://localhost:8080/"
        },
        "id": "i07S6Bur7qkD",
        "outputId": "cbc98ac3-dc62-433f-8223-731513b7f5bf"
      },
      "execution_count": null,
      "outputs": [
        {
          "output_type": "stream",
          "name": "stdout",
          "text": [
            "Result: 3029.68\n",
            "Time taken: 36015 us\n"
          ]
        }
      ]
    },
    {
      "cell_type": "code",
      "source": [
        "import os\n",
        "\n",
        "# Get the value of the bash variable\n",
        "stream = os.popen('./naivecpp | grep \"Time\" | cut -d\" \" -f3') #note that we use echo to print the variable in bash, and os.popen to grab it into the python runtime\n",
        "t_value = stream.read().strip()  # Read and remove any trailing newline\n",
        "\n",
        "# Define the Python variable\n",
        "tnaivecpp = float(t_value)\n",
        "\n",
        "# Now you can use python_var in your Python code\n",
        "print(tnaivecpp)"
      ],
      "metadata": {
        "colab": {
          "base_uri": "https://localhost:8080/"
        },
        "id": "J3Du4Jjr7_ej",
        "outputId": "f6a3eef5-2132-499e-a8e4-19671dcdd91e"
      },
      "execution_count": null,
      "outputs": [
        {
          "output_type": "stream",
          "name": "stdout",
          "text": [
            "35772.0\n"
          ]
        }
      ]
    },
    {
      "cell_type": "code",
      "source": [
        "#@title numpy\n",
        "import numpy as np\n",
        "import time\n",
        "\n",
        "n = 10000000\n",
        "\n",
        "# create x and y vectors\n",
        "x = np.arange(1, n+1, dtype=np.float32)\n",
        "y = np.arange(n, 0, -1, dtype=np.float32)\n",
        "z= np.empty(x.shape, dtype=np.float32)\n",
        "\n",
        "###################\n",
        "start_time = time.time()\n",
        "\n",
        "# fill z vector\n",
        "z = x + y\n",
        "\n",
        "# normalize z by its Euclidean norm\n",
        "norm = np.linalg.norm(z)\n",
        "#z_norm = z / norm\n",
        "\n",
        "# sum the elements of the final result\n",
        "result = np.sum(z)/norm\n",
        "\n",
        "# print the result and the time taken\n",
        "print(\"Result:\", result)\n",
        "print(\"Time taken:\", (time.time() - start_time) * 1000000, \"us\")\n",
        "###################\n",
        "\n",
        "tnumpy = (time.time() - start_time) * 1000000\n",
        "#print(x,y,z,z_norm)"
      ],
      "metadata": {
        "colab": {
          "base_uri": "https://localhost:8080/"
        },
        "id": "njdSN0WiR5YQ",
        "outputId": "3ca21292-0141-4cc1-e20c-a491c76f1903"
      },
      "execution_count": null,
      "outputs": [
        {
          "output_type": "stream",
          "name": "stdout",
          "text": [
            "Result: 3161.5037\n",
            "Time taken: 23064.136505126953 us\n"
          ]
        }
      ]
    },
    {
      "cell_type": "code",
      "source": [
        "#@title cupy (solo cambiar np->cp !!!)\n",
        "import cupy as cp\n",
        "import time\n",
        "\n",
        "n = 10000000\n",
        "\n",
        "# create x and y vectors\n",
        "x = cp.arange(1, n+1, dtype=cp.float32)\n",
        "y = cp.arange(n, 0, -1, dtype=cp.float32)\n",
        "z= cp.empty(x.shape, dtype=cp.float32)\n",
        "\n",
        "###################\n",
        "start_time = time.time()\n",
        "\n",
        "# fill z vector\n",
        "z = x + y\n",
        "\n",
        "# normalize z by its Euclidean norm\n",
        "norm = cp.linalg.norm(z)\n",
        "#z_norm = z / norm\n",
        "\n",
        "# sum the elements of the final result\n",
        "result = cp.sum(z)/norm\n",
        "\n",
        "# print the result and the time taken\n",
        "print(\"Result:\", result)\n",
        "cp.cuda.Stream.null.synchronize()\n",
        "print(\"Time taken:\", (time.time() - start_time) * 1000000, \"us\")\n",
        "###################\n",
        "\n",
        "tcupy = (time.time() - start_time) * 1000000\n",
        "\n",
        "#print(x,y,z,z_norm)"
      ],
      "metadata": {
        "colab": {
          "base_uri": "https://localhost:8080/"
        },
        "id": "JmiePL4lEwiO",
        "outputId": "6a947692-cf68-4a72-fa4e-7ba6260cec9c"
      },
      "execution_count": null,
      "outputs": [
        {
          "output_type": "stream",
          "name": "stdout",
          "text": [
            "Result: 3162.2773\n",
            "Time taken: 1477.7183532714844 us\n"
          ]
        }
      ]
    },
    {
      "cell_type": "code",
      "source": [
        "#@title thrust\n",
        "%%writefile exp.cu\n",
        "#include <thrust/device_vector.h>\n",
        "#include <thrust/transform_reduce.h>\n",
        "#include <thrust/reduce.h>\n",
        "#include <thrust/sequence.h>\n",
        "#include <thrust/iterator/counting_iterator.h>\n",
        "#include <thrust/functional.h>\n",
        "#include <thrust/execution_policy.h>\n",
        "#include <cmath>\n",
        "#include <iostream>\n",
        "#include <chrono>\n",
        "\n",
        "int main()\n",
        "{\n",
        "    int n = 10000000;\n",
        "\n",
        "    // create x and y vectors\n",
        "    thrust::device_vector<float> x(n);\n",
        "    thrust::device_vector<float> y(n);\n",
        "    thrust::sequence(x.begin(), x.end(), 1.f);\n",
        "    thrust::sequence(y.rbegin(), y.rend(), 1.f);\n",
        "\n",
        "    // create z vector\n",
        "    thrust::device_vector<float> z(n);\n",
        "\n",
        "    auto start_time = std::chrono::high_resolution_clock::now();\n",
        "\n",
        "    // initialize z = x + y\n",
        "    thrust::transform(thrust::device, x.begin(), x.end(), y.begin(), z.begin(), thrust::plus<float>());\n",
        "\n",
        "    // normalize z by its Euclidean norm (transform and reduce fused)\n",
        "    float norm = std::sqrt(thrust::transform_reduce(thrust::device, z.begin(), z.end(), thrust::square<float>(), 0.f, thrust::plus<float>()));\n",
        "\n",
        "    // sum the elements of the final result\n",
        "    float result = thrust::reduce(thrust::device, z.begin(), z.end(), 0.f, thrust::plus<float>())/norm;\n",
        "\n",
        "    // print the result and the time taken\n",
        "    std::cout << \"Result: \" << result << std::endl;\n",
        "\n",
        "    cudaDeviceSynchronize();\n",
        "    auto end_time = std::chrono::high_resolution_clock::now();\n",
        "\n",
        "    auto time_taken = std::chrono::duration_cast<std::chrono::microseconds>(end_time - start_time).count();\n",
        "    std::cout << \"Time taken: \" << time_taken << \" us\" << std::endl;\n",
        "\n",
        "    return 0;\n",
        "}\n"
      ],
      "metadata": {
        "colab": {
          "base_uri": "https://localhost:8080/"
        },
        "id": "43fZ2abYGqQt",
        "outputId": "2678428e-b532-49a6-bb04-1db4511f5c4d"
      },
      "execution_count": null,
      "outputs": [
        {
          "output_type": "stream",
          "name": "stdout",
          "text": [
            "Overwriting exp.cu\n"
          ]
        }
      ]
    },
    {
      "cell_type": "code",
      "source": [
        "!nvcc -O2 -arch=sm_75 exp.cu; ./a.out > zzz; ./a.out"
      ],
      "metadata": {
        "colab": {
          "base_uri": "https://localhost:8080/"
        },
        "id": "assZ-vA2HQNT",
        "outputId": "55316243-0c6d-4296-e646-147643bffa42"
      },
      "execution_count": null,
      "outputs": [
        {
          "output_type": "stream",
          "name": "stdout",
          "text": [
            "Result: 3162.28\n",
            "Time taken: 1355 us\n"
          ]
        }
      ]
    },
    {
      "cell_type": "code",
      "source": [
        "!./a.out | grep \"Time\" | cut -d\" \" -f3"
      ],
      "metadata": {
        "colab": {
          "base_uri": "https://localhost:8080/"
        },
        "id": "fuFz-psou5TQ",
        "outputId": "c0e2e8ba-fda1-41e7-dc80-9bdf83a25797"
      },
      "execution_count": null,
      "outputs": [
        {
          "output_type": "stream",
          "name": "stdout",
          "text": [
            "1579\n"
          ]
        }
      ]
    },
    {
      "cell_type": "code",
      "source": [
        "import os\n",
        "\n",
        "# Get the value of the bash variable\n",
        "stream = os.popen('./a.out | grep \"Time\" | cut -d\" \" -f3') #note that we use echo to print the variable in bash, and os.popen to grab it into the python runtime\n",
        "t_value = stream.read().strip()  # Read and remove any trailing newline\n",
        "\n",
        "# Define the Python variable\n",
        "tthrust = float(t_value)\n",
        "\n",
        "# Now you can use python_var in your Python code\n",
        "print(tthrust)"
      ],
      "metadata": {
        "colab": {
          "base_uri": "https://localhost:8080/"
        },
        "id": "cvMd58zJuJ0r",
        "outputId": "d4c2b653-e864-499b-b318-654c224343d3"
      },
      "execution_count": null,
      "outputs": [
        {
          "output_type": "stream",
          "name": "stdout",
          "text": [
            "1355.0\n"
          ]
        }
      ]
    },
    {
      "cell_type": "code",
      "source": [
        "#@title thrust optimized\n",
        "%%writefile exp2.cu\n",
        "#include <thrust/device_vector.h>\n",
        "#include <thrust/transform_reduce.h>\n",
        "#include <thrust/reduce.h>\n",
        "#include <thrust/iterator/counting_iterator.h>\n",
        "#include <thrust/iterator/zip_iterator.h>\n",
        "#include <thrust/functional.h>\n",
        "#include <thrust/execution_policy.h>\n",
        "#include <thrust/tuple.h>\n",
        "#include <cmath>\n",
        "#include <iostream>\n",
        "#include <chrono>\n",
        "#include <thrust/sequence.h>\n",
        "\n",
        "\n",
        "int main()\n",
        "{\n",
        "    int n = 10000000;\n",
        "    //n=4;\n",
        "\n",
        "    // create x and y vectors\n",
        "    thrust::device_vector<float> x(n);\n",
        "    thrust::device_vector<float> y(n);\n",
        "    thrust::sequence(x.begin(), x.end(), 1.f);\n",
        "    thrust::sequence(y.rbegin(), y.rend(), 1.f);\n",
        "\n",
        "    auto start_time = std::chrono::high_resolution_clock::now();\n",
        "\n",
        "    auto ambos =\n",
        "    thrust::transform_reduce(thrust::device,\n",
        "      thrust::make_zip_iterator(\n",
        "        thrust::make_tuple(x.begin(),y.begin())\n",
        "      ),\n",
        "      thrust::make_zip_iterator(\n",
        "        thrust::make_tuple(x.end(),y.end())\n",
        "      ),\n",
        "      [=] __host__ __device__ (thrust::tuple<float, float> tup)\n",
        "      {\n",
        "          float x=thrust::get<0>(tup);\n",
        "          float y=thrust::get<1>(tup);\n",
        "          return\n",
        "          thrust::make_tuple(\n",
        "            x+y,\n",
        "            (x+y)*(x+y)\n",
        "          );\n",
        "      },\n",
        "      thrust::make_tuple(0.f,0.f),\n",
        "      [=] __host__ __device__ (thrust::tuple<float, float> tup1, thrust::tuple<float, float> tup2)\n",
        "      {\n",
        "          return\n",
        "          thrust::make_tuple(\n",
        "            thrust::get<0>(tup1)+thrust::get<0>(tup2),\n",
        "            thrust::get<1>(tup1)+thrust::get<1>(tup2)\n",
        "          );\n",
        "      }\n",
        "    );\n",
        "\n",
        "    float numerador=thrust::get<0>(ambos);\n",
        "    float denominador=thrust::get<1>(ambos);\n",
        "\n",
        "    float result=numerador/sqrt(denominador);\n",
        "\n",
        "    // print the result and the time taken\n",
        "    std::cout << \"Result: \" << result << std::endl;\n",
        "\n",
        "    #ifdef __CUDACC__\n",
        "    std::cout << \"cuda on\" << std::endl;\n",
        "    cudaDeviceSynchronize();\n",
        "    #endif\n",
        "\n",
        "    auto end_time = std::chrono::high_resolution_clock::now();\n",
        "\n",
        "    auto time_taken = std::chrono::duration_cast<std::chrono::microseconds>(end_time - start_time).count();\n",
        "    std::cout << \"Time taken: \" << time_taken << \" us\" << std::endl;\n",
        "\n",
        "    return 0;\n",
        "}\n"
      ],
      "metadata": {
        "colab": {
          "base_uri": "https://localhost:8080/"
        },
        "id": "6aoc_0QqJXmf",
        "outputId": "ae321ad4-d74e-4bde-ac09-df1979f4581a"
      },
      "execution_count": null,
      "outputs": [
        {
          "output_type": "stream",
          "name": "stdout",
          "text": [
            "Writing exp2.cu\n"
          ]
        }
      ]
    },
    {
      "cell_type": "code",
      "source": [
        "!nvcc -O2 -arch=sm_75 --extended-lambda  exp2.cu -o exp2 ; ./exp2"
      ],
      "metadata": {
        "colab": {
          "base_uri": "https://localhost:8080/"
        },
        "id": "uEfO1lvzMpQV",
        "outputId": "2dfc0aec-a0ff-4e71-be56-14a238c79f03"
      },
      "execution_count": null,
      "outputs": [
        {
          "output_type": "stream",
          "name": "stdout",
          "text": [
            "Result: 3162.28\n",
            "cuda on\n",
            "Time taken: 914 us\n"
          ]
        }
      ]
    },
    {
      "cell_type": "code",
      "source": [
        "import os\n",
        "\n",
        "# Get the value of the bash variable\n",
        "stream = os.popen('./exp2 | grep \"Time\" | cut -d\" \" -f3') #note that we use echo to print the variable in bash, and os.popen to grab it into the python runtime\n",
        "t_value = stream.read().strip()  # Read and remove any trailing newline\n",
        "\n",
        "# Define the Python variable\n",
        "tthrust2 = float(t_value)\n",
        "\n",
        "# Now you can use python_var in your Python code\n",
        "print(tthrust2)"
      ],
      "metadata": {
        "colab": {
          "base_uri": "https://localhost:8080/"
        },
        "id": "fbSbO6zfvzDy",
        "outputId": "7be7a200-c673-4107-d39c-76f14519401a"
      },
      "execution_count": null,
      "outputs": [
        {
          "output_type": "stream",
          "name": "stdout",
          "text": [
            "731.0\n"
          ]
        }
      ]
    },
    {
      "cell_type": "code",
      "source": [
        "!cp exp2.cu exp2.cpp;\n",
        "!g++ -O2 -I/content/thrust/ -I/usr/local/cuda/include -DTHRUST_DEVICE_SYSTEM=THRUST_DEVICE_SYSTEM_CPP exp2.cpp  -o portableCPU ; ./portableCPU"
      ],
      "metadata": {
        "colab": {
          "base_uri": "https://localhost:8080/"
        },
        "id": "Fiv6oHS_BV40",
        "outputId": "26b56bb1-98e9-433e-b348-b08ac7125ee6"
      },
      "execution_count": null,
      "outputs": [
        {
          "output_type": "stream",
          "name": "stdout",
          "text": [
            "Result: 3029.68\n",
            "Time taken: 14017 us\n"
          ]
        }
      ]
    },
    {
      "cell_type": "code",
      "source": [
        "import os\n",
        "\n",
        "# Get the value of the bash variable\n",
        "stream = os.popen('./portableCPU | grep \"Time\" | cut -d\" \" -f3') #note that we use echo to print the variable in bash, and os.popen to grab it into the python runtime\n",
        "t_value = stream.read().strip()  # Read and remove any trailing newline\n",
        "\n",
        "# Define the Python variable\n",
        "tthrust3 = float(t_value)\n",
        "\n",
        "# Now you can use python_var in your Python code\n",
        "print(tthrust3)"
      ],
      "metadata": {
        "colab": {
          "base_uri": "https://localhost:8080/"
        },
        "outputId": "9c00e2a9-2c58-471b-a772-30df1f190c16",
        "id": "NBj8GIE9CxUe"
      },
      "execution_count": null,
      "outputs": [
        {
          "output_type": "stream",
          "name": "stdout",
          "text": [
            "14099.0\n"
          ]
        }
      ]
    },
    {
      "cell_type": "code",
      "source": [
        "#@title Comparacion performance\n",
        "import matplotlib.pyplot as plt\n",
        "\n",
        "# Sample data (replace with your actual data)\n",
        "performance_data = {\n",
        "    'tthrust2': tthrust2,\n",
        "    'tthrust': tthrust,\n",
        "    'tcupy': tcupy,\n",
        "    'tthrust3': tthrust3,\n",
        "    'tnumpy': tnumpy,\n",
        "    'tnaivecpp': tnaivecpp,\n",
        "    'tnaivec': tnaivec,\n",
        "    'tnaivepython': tnaivepython\n",
        "}\n",
        "\n",
        "# Extract labels and values\n",
        "labels = list(performance_data.keys())\n",
        "values = list(performance_data.values())\n",
        "\n",
        "# Create the bar chart with log y-scale\n",
        "plt.figure(figsize=(10, 6))\n",
        "plt.bar(labels, values)\n",
        "plt.yscale('log')\n",
        "plt.xlabel(\"Method\")\n",
        "plt.ylabel(\"Time (us) - Log Scale\")\n",
        "plt.title(\"Performance Comparison\")\n",
        "plt.xticks(rotation=45, ha=\"right\")  # Rotate x-axis labels for better readability\n",
        "plt.tight_layout()  # Adjust layout to prevent labels from overlapping\n",
        "plt.show()\n"
      ],
      "metadata": {
        "id": "yp_9HNFAT6qb",
        "colab": {
          "base_uri": "https://localhost:8080/",
          "height": 607
        },
        "outputId": "ddfe9faf-6359-4438-a6d3-41c921151e23"
      },
      "execution_count": null,
      "outputs": [
        {
          "output_type": "display_data",
          "data": {
            "text/plain": [
              "<Figure size 1000x600 with 1 Axes>"
            ],
            "image/png": "[encoded data removed]"
          },
          "metadata": {}
        }
      ]
    },
    {
      "cell_type": "code",
      "source": [
        "import matplotlib.pyplot as plt\n",
        "\n",
        "# Sample data (replace with your actual data)\n",
        "performance_data = {\n",
        "    'tthrust2': tthrust2/tthrust2,\n",
        "    'tthrust': tthrust/tthrust2,\n",
        "    'tcupy': tcupy/tthrust2,\n",
        "    'tthrust3': tthrust3/tthrust2,\n",
        "    'tnumpy': tnumpy/tthrust2,\n",
        "    'tnaivecpp': tnaivecpp/tthrust2,\n",
        "    'tnaivec': tnaivec/tthrust2,\n",
        "    'tnaivepython': tnaivepython/tthrust2\n",
        "}\n",
        "\n",
        "# Extract labels and values\n",
        "labels = list(performance_data.keys())\n",
        "values = list(performance_data.values())\n",
        "\n",
        "# Create the bar chart with log y-scale\n",
        "plt.figure(figsize=(10, 6))\n",
        "plt.bar(labels, values)\n",
        "plt.yscale('log')\n",
        "plt.xlabel(\"Method\")\n",
        "plt.ylabel(\"Time (us) - Log Scale\")\n",
        "plt.title(\"Performance Comparison relative to thrust optimized\")\n",
        "plt.xticks(rotation=45, ha=\"right\")  # Rotate x-axis labels for better readability\n",
        "plt.tight_layout()  # Adjust layout to prevent labels from overlapping\n",
        "plt.show()\n"
      ],
      "metadata": {
        "colab": {
          "base_uri": "https://localhost:8080/",
          "height": 607
        },
        "id": "qbDw0woF6Tww",
        "outputId": "1a399c17-954b-41d6-dbf0-53da656ce8b8"
      },
      "execution_count": null,
      "outputs": [
        {
          "output_type": "display_data",
          "data": {
            "text/plain": [
              "<Figure size 1000x600 with 1 Axes>"
            ],
            "image/png": "[encoded data removed]"
          },
          "metadata": {}
        }
      ]
    },
    {
      "cell_type": "markdown",
      "source": [
        "# Install last Thrust"
      ],
      "metadata": {
        "id": "_2CCLetujhUC"
      }
    },
    {
      "cell_type": "code",
      "source": [
        "!git clone --recursive https://github.com/NVIDIA/thrust.git"
      ],
      "metadata": {
        "colab": {
          "base_uri": "https://localhost:8080/"
        },
        "id": "51RtYJNYkMpm",
        "outputId": "ecc3b41c-37e1-4ea4-ac49-1a540200fde5"
      },
      "execution_count": null,
      "outputs": [
        {
          "output_type": "stream",
          "name": "stdout",
          "text": [
            "Cloning into 'thrust'...\n",
            "remote: Enumerating objects: 50516, done.\u001b[K\n",
            "remote: Counting objects: 100% (234/234), done.\u001b[K\n",
            "remote: Compressing objects: 100% (140/140), done.\u001b[K\n",
            "remote: Total 50516 (delta 98), reused 199 (delta 85), pack-reused 50282 (from 1)\u001b[K\n",
            "Receiving objects: 100% (50516/50516), 17.35 MiB | 19.12 MiB/s, done.\n",
            "Resolving deltas: 100% (40174/40174), done.\n",
            "Submodule 'cub' (https://github.com/NVIDIA/cub.git) registered for path 'dependencies/cub'\n",
            "Submodule 'libcudacxx' (https://github.com/NVIDIA/libcudacxx.git) registered for path 'dependencies/libcudacxx'\n",
            "Cloning into '/content/thrust/dependencies/cub'...\n",
            "remote: Enumerating objects: 33392, done.        \n",
            "remote: Counting objects: 100% (247/247), done.        \n",
            "remote: Compressing objects: 100% (63/63), done.        \n",
            "remote: Total 33392 (delta 209), reused 184 (delta 184), pack-reused 33145 (from 4)        \n",
            "Receiving objects: 100% (33392/33392), 18.00 MiB | 27.31 MiB/s, done.\n",
            "Resolving deltas: 100% (27972/27972), done.\n",
            "Cloning into '/content/thrust/dependencies/libcudacxx'...\n",
            "remote: Enumerating objects: 55840, done.        \n",
            "remote: Counting objects: 100% (55840/55840), done.        \n",
            "remote: Compressing objects: 100% (13702/13702), done.        \n",
            "remote: Total 55840 (delta 39844), reused 53817 (delta 39412), pack-reused 0 (from 0)        \n",
            "Receiving objects: 100% (55840/55840), 13.73 MiB | 20.74 MiB/s, done.\n",
            "Resolving deltas: 100% (39844/39844), done.\n",
            "Submodule path 'dependencies/cub': checked out 'b2e8bccb8c0cd15279974fe4b9b8d6fcd1842b57'\n",
            "Submodule path 'dependencies/libcudacxx': checked out '55dd2c99346baa3a14949a0f7e9c41865e434eda'\n"
          ]
        }
      ]
    },
    {
      "cell_type": "code",
      "source": [],
      "metadata": {
        "id": "NFk7GBmFB4wz"
      },
      "execution_count": null,
      "outputs": []
    }
  ]
}